{
 "cells": [
  {
   "cell_type": "markdown",
   "metadata": {},
   "source": [
    "# Capítulo 4\n",
    "Nesta seção apresentaremos os solucionários dos problemas e exercícios propostos pelos autor do livro, Nilo N C Menezes."
   ]
  },
  {
   "cell_type": "markdown",
   "metadata": {},
   "source": [
    "**Exercício 4.1**\n",
    "\n",
    "Analise o programa 4.1. Responda o que acontece se o primeiro e o segundo valores forem iguais? Explique."
   ]
  },
  {
   "cell_type": "code",
   "execution_count": 8,
   "metadata": {},
   "outputs": [
    {
     "name": "stdout",
     "output_type": "stream",
     "text": [
      "Primeiro número: 5\n",
      "Segundo número: 5\n",
      "5 é menor que 5. Portanto, B(5) é maior!\n"
     ]
    }
   ],
   "source": [
    "a, b = int(input(\"Primeiro número: \")), int(input(\"Segundo número: \"))\n",
    "\n",
    "# condições:\n",
    "if a > b:\n",
    "    print(f\"{a} é maior que {b}. Portanto, A({a}) é maior!\")\n",
    "else:\n",
    "    print(f\"{a} é menor que {b}. Portanto, B({b}) é maior!\")"
   ]
  },
  {
   "cell_type": "markdown",
   "metadata": {},
   "source": [
    "**Exercício 4.2**\n",
    "\n",
    "Escreva um programa que pergunte a velocidade média do carro de usuário.\n",
    "Caso ultrapasse 80 km/h, exiba uma mensagem que usuário foi multado. Nesse caso exiba o valor da multa, cobrando R$ 5,00\n",
    "por cada km acima do limite permitido."
   ]
  },
  {
   "cell_type": "code",
   "execution_count": 11,
   "metadata": {},
   "outputs": [
    {
     "name": "stdout",
     "output_type": "stream",
     "text": [
      "Qual é a velocidade média do veículo?: 82\n",
      "Você foi ULTRAPASSOU O LIMITE DE VELOCIDADE DA RODOVIA em 2.0 km/h. Sua multa é de R$ 10.0\n"
     ]
    }
   ],
   "source": [
    "velocidade = float(input(\"Qual é a velocidade média do veículo?: \")) # 82 km/h\n",
    "\n",
    "'''\n",
    "Usei float por conta da possibilidade de o usuário entrar com qualquer número\n",
    "'''\n",
    "# caso o usuário ultrapasse os 80 km/s sua multa será de R$ 5,00 por km/h.\n",
    "# Então:\n",
    "\n",
    "if velocidade > 80:\n",
    "    print(f\"Você foi ULTRAPASSOU O LIMITE DE VELOCIDADE DA RODOVIA em {velocidade - 80} km/h. Sua multa é de R$ {(velocidade-80)*5}\")\n",
    "else:\n",
    "    print(\"Obrigado por respeitar o limite de velocidade\")"
   ]
  },
  {
   "cell_type": "markdown",
   "metadata": {},
   "source": [
    "**Exercício 4.3**\n",
    "\n",
    "Escreva um programa que leia três números e que imprima o maior e o menor."
   ]
  },
  {
   "cell_type": "code",
   "execution_count": 13,
   "metadata": {},
   "outputs": [
    {
     "name": "stdout",
     "output_type": "stream",
     "text": [
      "B é o maior número\n",
      "C é o menor número\n"
     ]
    }
   ],
   "source": [
    "a, b, c = 10,52,8\n",
    "\n",
    "# A nossa condição é de imprimir o maior e o menor número\n",
    "\n",
    "if a > b and a>c:\n",
    "    print(\"A é o maior número\")\n",
    "\n",
    "if b > a and c:\n",
    "    print(\"B é o maior número\")\n",
    "    \n",
    "if c > a and b:\n",
    "    print(\"C é o maior número\")\n",
    "    \n",
    "    \n",
    "# Nossa segunda condição: imprimir o menor número\n",
    "\n",
    "if a < b and a<c:\n",
    "    print(\"A é o menor número\")\n",
    "\n",
    "if b < a and c:\n",
    "    print(\"B é o menor número\")\n",
    "    \n",
    "if c < a and b:\n",
    "    print(\"C é o menor número\") "
   ]
  },
  {
   "cell_type": "markdown",
   "metadata": {},
   "source": [
    "**Exercício 4.4**\n",
    "\n",
    "Escreva um programa que pergunte o salário de um funcionário e calcule o valor do aumento.\n",
    "Para salários superiores a R$ 1.250,00 o aumento será de 10 porcento. Para inferiores ou igual, aumento de 15 porcento. "
   ]
  },
  {
   "cell_type": "code",
   "execution_count": 24,
   "metadata": {},
   "outputs": [
    {
     "name": "stdout",
     "output_type": "stream",
     "text": [
      "O salário do funcionário é de: 1595.78\n",
      "Aumento de R$159.58\n",
      "Seu novo salário será de R$1755.36\n"
     ]
    }
   ],
   "source": [
    "salário = float(input(\"O salário do funcionário é de: \")) # R$ 1595.78\n",
    "\n",
    "# Condiçoes:\n",
    "\n",
    "if salário > 1250.00:\n",
    "    aumento = salário*0.1\n",
    "    print(f'Aumento de R${aumento:5.2f}')\n",
    "    print(f'Seu novo salário será de R${salário+aumento:5.2f}')\n",
    "\n",
    "if salário <= 1250.00:\n",
    "    aumento = salário * 0.15\n",
    "    print(f'Seu novo salário será de R${salário+aumento:5.2f}')"
   ]
  },
  {
   "cell_type": "markdown",
   "metadata": {},
   "source": [
    "**Exercício 4.6**\n",
    "\n",
    "Escreva um programa que pergunte a distância que um passageiro deseja percorrer em km. \n",
    "Calcule o preço da passagem, R\\$ 0,50 por km para viagens de até 200 km e R\\$ 0,45 para viagens mais longas."
   ]
  },
  {
   "cell_type": "code",
   "execution_count": 30,
   "metadata": {},
   "outputs": [
    {
     "name": "stdout",
     "output_type": "stream",
     "text": [
      "Qual a distância (km) que o você deseja percorrer?: 210\n",
      "O preço é de R$105.00\n"
     ]
    }
   ],
   "source": [
    "distancia = float(input(\"Qual a distância (km) que o você deseja percorrer?: \")) # 210 km\n",
    "\n",
    "if distancia >= 200:\n",
    "    print(f'O preço é de R${distancia*0.5:5.2f}')\n",
    "else:\n",
    "    print(f\"O preço é de R${distancia*0.45:5.2f}\")"
   ]
  },
  {
   "cell_type": "markdown",
   "metadata": {},
   "source": [
    "**Exercício 4.8**\n",
    "\n",
    "Escreva um programa que leia dois números e que pergunte qual opreção deseja realizar.\n",
    "Você deve poder calcular soma (+), subtração (-), multiplicação ( * ) e divisão ( \\ ). Exiba o resultado da operação solicitada."
   ]
  },
  {
   "cell_type": "code",
   "execution_count": 39,
   "metadata": {},
   "outputs": [
    {
     "name": "stdout",
     "output_type": "stream",
     "text": [
      "Para multiplicação digite: m\n",
      "Para divisão digite: d\n",
      "Para adição digite: a\n",
      "Para subtração digite: s\n",
      "Escolha qual operação você deseja realizar: A\n",
      "2.845 + 52 = 54.845\n"
     ]
    }
   ],
   "source": [
    "# Dois números que dever ser lidos\n",
    "n1, n2 = 2.845 , 52\n",
    "\n",
    "# ESCOLHA qual operação deseja-se realizar?\n",
    "\n",
    "print(\"Para multiplicação digite: m\")\n",
    "print(\"Para divisão digite: d\")\n",
    "print(\"Para adição digite: a\")\n",
    "print(\"Para subtração digite: s\")\n",
    "\n",
    "operação = str(input(\"Escolha qual operação você deseja realizar: \"))\n",
    "\n",
    "if operação == 'm' or (operação == 'M'):\n",
    "    print(f'{n1} x {n2} = {n1*n2:5.3f}')\n",
    "elif operação == 'd' or operação == 'D':\n",
    "    print(f'{n1} % {n2} = {n1/n2:5.3f}')\n",
    "elif operação == 'a' or operação == 'A':\n",
    "    print(f'{n1} + {n2} = {n1+n2:5.3f}')\n",
    "else:\n",
    "    print(f'{n1} - {n2} = {n1-n2:5.3f}')"
   ]
  },
  {
   "cell_type": "markdown",
   "metadata": {},
   "source": [
    "**Exercício 4.9**\n",
    "\n",
    "Escreva um programa para aprovar um esmpréstimo bancário para compra de uma casa. \n",
    "O programa deve perguntar o valor da casa a comprar, o salário e a quantidade de anos a pagar.\n",
    "O valor da prestação mensal não pode ser superior a 30 % do salário.\n",
    "Calcule o valor da prestação como sendo o valor da casa a comprar dividido pelo número de meses a pagar."
   ]
  },
  {
   "cell_type": "code",
   "execution_count": 2,
   "metadata": {},
   "outputs": [
    {
     "name": "stdout",
     "output_type": "stream",
     "text": [
      "A casa custa R$: 350000\n",
      "O Salário é de R$: 5500.50\n",
      "Quantidade de anos a pagar a casa será de: 25\n",
      "Parabéns, seu empréstimo foi APROVADO!\n",
      "Sua prestação é de R${prestação:5.2f}\n"
     ]
    }
   ],
   "source": [
    "'''\n",
    "começaremos com os primeiros input solicitados\n",
    "'''\n",
    "\n",
    "v_casa = float(input(\"A casa custa R$: \"))\n",
    "salário = float(input(\"O Salário é de R$: \"))\n",
    "anos = int(input(\"Quantidade de anos a pagar a casa será de: \"))\n",
    "\n",
    "# Iremos determinar o valor da prestação da casa:\n",
    "prestação = v_casa / (12*anos)\n",
    "\n",
    "# Reficamos as condições apra o empréstimo ser aprovado, caso contrários será negado\n",
    "\n",
    "if prestação <= salário*0.3:\n",
    "    print(\"Parabéns, seu empréstimo foi APROVADO!\")\n",
    "    print(\"Sua prestação é de R${prestação:5.2f}\")\n",
    "else:\n",
    "    print(\"Empréstimo NEGATIVADO.\")"
   ]
  },
  {
   "cell_type": "markdown",
   "metadata": {},
   "source": [
    "**Exercício 4.10**\n",
    "\n",
    "Escreva um programa que calcule o preço a pagar pelo fornecimento de energia elétrica. \n",
    "Pergunte a quantidade de KWh consumida e o tipo de instalação:\n",
    "R - residência, I - industrias e C - comércios.\n",
    "Calcule o preço a pagar de acordo com a tabela."
   ]
  },
  {
   "cell_type": "code",
   "execution_count": null,
   "metadata": {},
   "outputs": [],
   "source": [
    "r = 1\n",
    "rpmenor=0.40\n",
    "rpmaior=0.65\n",
    "\n",
    "i = 2\n",
    "ipmenor=0.55\n",
    "ipmaior=0.60\n",
    "\n",
    "c = 3\n",
    "cpmenor=0.55\n",
    "cpmaior=0.60\n",
    "\n",
    "\n",
    "tipo_intalação = int(input(\"Qual o tipo de instalação você deseja?: \"))\n",
    "\n",
    "qualkwh = int(input(\"Faixa de consumo desejável: \"))\n",
    "\n",
    "if tipo_instalação == 1 and qualkwh<=500:\n",
    "    print(f'Seu custo será R${qualkwh*rpmenor:5.2f}')\n",
    "else:\n",
    "#     tipo_instalação == 1 and qualkwh>500:\n",
    "    print(f'Seu custo será de R${qualkwh*rpmaior:5.2f}')\n",
    "# elif tipo_instalação == 2 and qualkwh<=5000:\n",
    "#     print(f'Seu custo será de R${qualkwh*ipmenor:5.2f}')\n",
    "# elif tipo_instalação == 2 and qualkwh>5000:\n",
    "#     print(f'Seu custo será de R${qualkwh*ipmaior:5.2f}')\n",
    "# elif tipo_instalação == 3 and qualkwh<=1000:\n",
    "#     print(f'Seu custo será de R${qualkwh*cpmenor:5.2f}')\n",
    "# elif tipo_instalação == 4 and qualkwh>1000:\n",
    "#     print(f'Seu custo será de R${qualkwh*cpmaior:5.2f}')\n",
    "# else:\n",
    "#     print(\"Não realizamos esse tipo instalação\")"
   ]
  },
  {
   "cell_type": "code",
   "execution_count": 17,
   "metadata": {},
   "outputs": [
    {
     "name": "stdout",
     "output_type": "stream",
     "text": [
      "Escolha o número do tipo de instalação que deseja realizar: Residencial = 0; Comercial =1; Industrial =2\n",
      "Qual tipo de instalação?: 0\n",
      "_________________________Residencial: instalada corretamente!\n",
      "Quantidade de kWh mensal: 1234\n",
      "custo = R$802.10\n"
     ]
    }
   ],
   "source": [
    "r=0\n",
    "c=1\n",
    "i=2\n",
    "print(\"Escolha o número do tipo de instalação que deseja realizar: \\\n",
    "Residencial = 0; Comercial =1; Industrial =2\")\n",
    "tipo_instalação = int(input(\"Qual tipo de instalação?: \"))\n",
    "if tipo_instalação == 0:\n",
    "    print(\"_________________________Residencial: instalada corretamente!\")\n",
    "if tipo_instalação == 1:\n",
    "    print(\"_________________________Comercial: instalada corretamente!\")\n",
    "if tipo_instalação == 2:\n",
    "    print(\"_________________________Industrial: instalada corretamente!\")\n",
    "    \n",
    "\n",
    "\n",
    "kwh = int(input(\"Quantidade de kWh mensal: \"))\n",
    "\n",
    "if tipo_instalação == 0 and kwh<=500:\n",
    "    print(f\"custo = R${kwh*0.40:5.2f}\")\n",
    "elif tipo_instalação == 0 and kwh>500:\n",
    "    print(f'custo = R${kwh*0.65:5.2f}')\n",
    "elif tipo_instalação == 1 and kwh<=1000:\n",
    "    print(f'custo = R${kwh*0.55:5.2f}')\n",
    "elif tipo_instalação == 1 and kwh>1000:\n",
    "    print(f'custo = R${kwh*0.60:5.2f}')\n",
    "elif tipo_instalação == 2 and kwh<=5000:\n",
    "    print(f\"custo = R${kwh*0.55:5.2f}\")\n",
    "elif tipo_instalação == 2 and kwh>5000:\n",
    "    print(f'custo = R${kwh*0.60:5.2f}')\n",
    "else:\n",
    "    print(\"_______________________________ERRO: Instalação desconhecida.   >>>>    Verifique sua INSTALAÇÃO    <<<<<\")"
   ]
  },
  {
   "cell_type": "code",
   "execution_count": 28,
   "metadata": {},
   "outputs": [
    {
     "name": "stdout",
     "output_type": "stream",
     "text": [
      "Escolha o número do tipo de instalação que deseja realizar: Residencial = r; Comercial = c; Industrial = i\n",
      "Qual tipo de instalação?: c\n",
      "Quantidade de kWh mensal: 1238\n",
      "custo = R$742.80\n"
     ]
    }
   ],
   "source": [
    "print(\"Escolha o número do tipo de instalação que deseja realizar: \\\n",
    "Residencial = r; Comercial = c; Industrial = i\")\n",
    "tipo_instalação = str(input(\"Qual tipo de instalação?: \"))\n",
    "if tipo_instalação == r:\n",
    "    print(\"_________________________Residencial: instalada corretamente!\")\n",
    "if tipo_instalação == c:\n",
    "    print(\"_________________________Comercial: instalada corretamente!\")\n",
    "if tipo_instalação == i:\n",
    "    print(\"_________________________Industrial: instalada corretamente!\")\n",
    "    \n",
    "kwh = int(input(\"Quantidade de kWh mensal: \"))\n",
    "\n",
    "if tipo_instalação == \"r\" and kwh<=500:\n",
    "    print(f\"custo = R${kwh*0.4:5.2f}\")\n",
    "elif tipo_instalação == \"r\" and kwh>500:\n",
    "    print(f'custo = R${kwh*0.65:5.2f}')\n",
    "elif tipo_instalação == \"c\" and kwh<=1000:\n",
    "    print(f'custo = R${kwh*0.55:5.2f}')\n",
    "elif tipo_instalação == \"c\" and kwh>1000:\n",
    "    print(f'custo = R${kwh*0.60:5.2f}')\n",
    "elif tipo_instalação == \"i\" and kwh<=5000:\n",
    "    print(f\"custo = R${kwh*0.55:5.2f}\")\n",
    "elif tipo_instalação == \"i\" and kwh>5000:\n",
    "    print(f'custo = R${kwh*0.60:5.2f}')\n",
    "else:\n",
    "    print(\"_______________________________ERRO: Instalação desconhecida.   >>>>    Verifique sua INSTALAÇÃO    <<<<<\")"
   ]
  },
  {
   "cell_type": "code",
   "execution_count": null,
   "metadata": {},
   "outputs": [],
   "source": []
  }
 ],
 "metadata": {
  "kernelspec": {
   "display_name": "Python 3",
   "language": "python",
   "name": "python3"
  },
  "language_info": {
   "codemirror_mode": {
    "name": "ipython",
    "version": 3
   },
   "file_extension": ".py",
   "mimetype": "text/x-python",
   "name": "python",
   "nbconvert_exporter": "python",
   "pygments_lexer": "ipython3",
   "version": "3.6.5"
  }
 },
 "nbformat": 4,
 "nbformat_minor": 2
}
