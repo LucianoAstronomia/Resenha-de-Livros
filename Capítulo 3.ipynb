{
 "cells": [
  {
   "cell_type": "markdown",
   "metadata": {},
   "source": [
    "# Capítulo 3\n",
    "\n",
    "Nesta seção apresentaremos os solucionários dos problamas e exercícios propostos pelos autor do livro, Nilo N C Menezes."
   ]
  },
  {
   "cell_type": "markdown",
   "metadata": {},
   "source": [
    "**Exercício 3.1**\n",
    "\n",
    "Complete a tabela a seguir, marcando inteiro ou ponto flutuante dependendo do número apresentado."
   ]
  },
  {
   "cell_type": "code",
   "execution_count": 1,
   "metadata": {},
   "outputs": [
    {
     "name": "stdout",
     "output_type": "stream",
     "text": [
      "a = Inteiro\n",
      "b = Ponto flutuante\n",
      "c = Ponto flutuante\n",
      "d = Inteiro\n",
      "e = Inteiro\n",
      "f = Ponto flutuante\n"
     ]
    }
   ],
   "source": [
    "# Solução:\n",
    "a = 5 \n",
    "print(\"a = Inteiro\")\n",
    "\n",
    "b = 5.0\n",
    "print(\"b = Ponto flutuante\")\n",
    "\n",
    "c = 4.3\n",
    "print(\"c = Ponto flutuante\")\n",
    "\n",
    "d = -2\n",
    "print(\"d = Inteiro\")\n",
    "\n",
    "e = 100\n",
    "print(\"e = Inteiro\")\n",
    "\n",
    "f = 1.333\n",
    "print(\"f = Ponto flutuante\")"
   ]
  },
  {
   "cell_type": "markdown",
   "metadata": {},
   "source": [
    "**Exercício 3.4**\n",
    "\n",
    "Escreva uma expressão para determinar se uma pessoa deve ou não pagar imposto. Conside que pagam\n",
    "imposto pessoas cujo salários é maior que $R\\$ 1.200,00$.\n"
   ]
  },
  {
   "cell_type": "code",
   "execution_count": 2,
   "metadata": {},
   "outputs": [
    {
     "name": "stdout",
     "output_type": "stream",
     "text": [
      "Isento do imposto\n"
     ]
    }
   ],
   "source": [
    "# Solução:\n",
    "\n",
    "'''Se a pessoa deve pagar o imposto o resultado será True, caso contrário será False'''\n",
    "\n",
    "\n",
    "def imposto(salário):\n",
    "    if salário > 1200:\n",
    "        print(\"Pagará imposto\")\n",
    "    else:\n",
    "        print(\"Isento do imposto\")\n",
    "\n",
    "salário = 998.00\n",
    "imposto(salário)"
   ]
  },
  {
   "cell_type": "code",
   "execution_count": 3,
   "metadata": {},
   "outputs": [
    {
     "name": "stdout",
     "output_type": "stream",
     "text": [
      "Pagará imposto\n"
     ]
    }
   ],
   "source": [
    "salário = 1500\n",
    "imposto(salário)"
   ]
  },
  {
   "cell_type": "markdown",
   "metadata": {},
   "source": [
    "**Exercício 3.5**\n",
    "\n",
    "Calcule o resultado da expressão A > B **and**  C **or** D, ultilizando os valores a seguir:"
   ]
  },
  {
   "cell_type": "code",
   "execution_count": 4,
   "metadata": {},
   "outputs": [
    {
     "name": "stdout",
     "output_type": "stream",
     "text": [
      "False\n",
      "False\n",
      "True\n"
     ]
    }
   ],
   "source": [
    "A, B, C, D = 1, 2, True, False\n",
    "print(A > B and C or D)\n",
    "\n",
    "A, B, C, D = 10, 3, False, False\n",
    "print(A > B and C or D)\n",
    "\n",
    "A, B, C, D = 5, 1, True, True\n",
    "print(A > B and C or D)"
   ]
  },
  {
   "cell_type": "markdown",
   "metadata": {},
   "source": [
    "**Exercício 3.6**\n",
    "\n",
    "Escreva uma expressão que será ultilizada para decidir se um aluno foi ou não aprovado. Para ser aprovado, todas as médias\n",
    "do aluno devem ser maiores que 7. Considere que o aluno cursa apenas três matérias, e que a nota de cada uma está armazenada\n",
    "nas seguintes variáveis: ***matéria_1***, ***matéria_2***, ***matéria_3***"
   ]
  },
  {
   "cell_type": "code",
   "execution_count": 5,
   "metadata": {},
   "outputs": [
    {
     "name": "stdout",
     "output_type": "stream",
     "text": [
      "False\n"
     ]
    }
   ],
   "source": [
    "# Solução:\n",
    "import numpy as np\n",
    "\n",
    "'''Se um aluno for aprovado, suas médias devem ser maior que SETE\n",
    "Caso contrário, o mesmo será Reprovado!'''\n",
    "\n",
    "# irei gerar três número aleatórios, para cada matéria.\n",
    "\n",
    "nota_matéria_1 = 7.0\n",
    "nota_matéria_2 = 1.5\n",
    "nota_matéria_3 = 7.5\n",
    "\n",
    "média = (nota_matéria_1 + nota_matéria_2 + nota_matéria_3) / 3\n",
    "\n",
    "Aprovado = média > 7\n",
    "print(Aprovado)"
   ]
  },
  {
   "cell_type": "markdown",
   "metadata": {},
   "source": [
    "**Exercício 3.7**\n",
    "\n",
    "Faça um programa que peça dois número inteiros. Imprima a soma desses dois números na tela"
   ]
  },
  {
   "cell_type": "code",
   "execution_count": 6,
   "metadata": {},
   "outputs": [
    {
     "name": "stdout",
     "output_type": "stream",
     "text": [
      "O primeiro número: 17\n"
     ]
    }
   ],
   "source": [
    "# Solução:\n",
    "\n",
    "n_1 = int(input('O primeiro número: ')) # 17"
   ]
  },
  {
   "cell_type": "code",
   "execution_count": 7,
   "metadata": {},
   "outputs": [
    {
     "name": "stdout",
     "output_type": "stream",
     "text": [
      "O segundo número: 18\n"
     ]
    }
   ],
   "source": [
    "n_2 = int(input('O segundo número: ')) # 18"
   ]
  },
  {
   "cell_type": "code",
   "execution_count": 8,
   "metadata": {},
   "outputs": [
    {
     "name": "stdout",
     "output_type": "stream",
     "text": [
      "35\n"
     ]
    }
   ],
   "source": [
    "# Agora iremos somar esses dois núemros:\n",
    "\n",
    "Soma = n_1 + n_2\n",
    "print(Soma)"
   ]
  },
  {
   "cell_type": "markdown",
   "metadata": {},
   "source": [
    "**Exercício 3.8**\n",
    "\n",
    "Escreva uma programa que leia um valor em metros e o exiba convertido em milímetros"
   ]
  },
  {
   "cell_type": "code",
   "execution_count": 9,
   "metadata": {},
   "outputs": [
    {
     "name": "stdout",
     "output_type": "stream",
     "text": [
      "Medida em metros: 1.82\n",
      "Medidas em milímetros: 1820.0\n"
     ]
    }
   ],
   "source": [
    "# Solução:\n",
    "\n",
    "valor_metros = float(input('Medida em metros: ')) # 1.82 metro\n",
    "\n",
    "valor_milímetros = valor_metros * 1000\n",
    "print(\"Medidas em milímetros:\", valor_milímetros)"
   ]
  },
  {
   "cell_type": "markdown",
   "metadata": {},
   "source": [
    "**Exercício 3.9***\n",
    "\n",
    "Escreva um programa que leia a quantidade de dias, horas, minutos e segundos do usuário. Calcule o total em segundos"
   ]
  },
  {
   "cell_type": "code",
   "execution_count": 10,
   "metadata": {},
   "outputs": [
    {
     "name": "stdout",
     "output_type": "stream",
     "text": [
      "2678400\n"
     ]
    }
   ],
   "source": [
    "# Solução:\n",
    "\n",
    "'''\n",
    "Para este exercício irei considerar o tempo desde o 1º de Janeiro ao dia 31 do mesmo mês.\n",
    "'''\n",
    "\n",
    "total_de_dias = 31\n",
    "total_de_horas = total_de_dias * 24\n",
    "total_de_minutos = total_de_horas * 60\n",
    "total_de_segundos = total_de_minutos * 60\n",
    "\n",
    "print(total_de_segundos)"
   ]
  },
  {
   "cell_type": "code",
   "execution_count": 11,
   "metadata": {},
   "outputs": [
    {
     "name": "stdout",
     "output_type": "stream",
     "text": [
      "Entre com o número de dias que o usuário trabalhou: 31\n",
      "O usuário trabalhou, em segundos: 2678400\n"
     ]
    }
   ],
   "source": [
    "Total_em_dias = int(input(\"Entre com o número de dias que o usuário trabalhou: \")) # \n",
    "\n",
    "Total_em_segundos = Total_em_dias * 24 * 60 * 60\n",
    "print(\"O usuário trabalhou, em segundos:\", Total_em_segundos)"
   ]
  },
  {
   "cell_type": "markdown",
   "metadata": {},
   "source": [
    "**Exercício 3.10**\n",
    "\n",
    "Faça um programa que calcule o aumento de um salário. Ele deve solicitar o valor de salário e a porcentagem do aumento.\n",
    "Exiba o valor do aumento e do novo salário."
   ]
  },
  {
   "cell_type": "code",
   "execution_count": 12,
   "metadata": {
    "scrolled": true
   },
   "outputs": [
    {
     "name": "stdout",
     "output_type": "stream",
     "text": [
      "Valor do Salário Atual: 2200\n",
      "Valor em Porcentagem: 12\n",
      "Aumentou: R$ 264.0\n",
      "Novo Salário: 2464.0\n"
     ]
    }
   ],
   "source": [
    "# Solução:\n",
    "\n",
    "salário = float(input(\"Valor do Salário Atual: \")) # 2200\n",
    "porc_aumento = float(input(\"Valor em Porcentagem: \")) # 12\n",
    "\n",
    "valor_aumento = porc_aumento/100 * salário\n",
    "print(\"Aumentou: R$\", f'{valor_aumento}')\n",
    "\n",
    "novo_salário = salário + salário * porc_aumento/100\n",
    "print(\"Novo Salário:\", novo_salário)"
   ]
  },
  {
   "cell_type": "markdown",
   "metadata": {},
   "source": [
    "**Exercício 3.11**\n",
    "\n",
    "Faça um programa que solicite o preço de uma mercadoria e o percentual de desconto. Exiba o valor do desconto e o preço a pagar."
   ]
  },
  {
   "cell_type": "code",
   "execution_count": 13,
   "metadata": {},
   "outputs": [
    {
     "name": "stdout",
     "output_type": "stream",
     "text": [
      "Preço da Mercadoria: 159.99\n",
      "Desconto em %:12\n",
      "Desconto em R$: 19.198800000000002\n",
      "Preço final: R$140.7912\n"
     ]
    }
   ],
   "source": [
    "# Solução:\n",
    "\n",
    "Preço_Merc = float(input(\"Preço da Mercadoria: \")) # 159.99\n",
    "Perc_Desconto = float(input(\"Desconto em %:\")) # 12\n",
    "\n",
    "Desc_Dinheiro = Preço_Merc * Perc_Desconto / 100\n",
    "print(\"Desconto em R$:\", f'{Desc_Dinheiro}')\n",
    "Preço_com_Desconto = Preço_Merc - (Preço_Merc * Perc_Desconto/100)\n",
    "print(\"Preço final:\", f'R${Preço_com_Desconto}')"
   ]
  },
  {
   "cell_type": "markdown",
   "metadata": {},
   "source": [
    "**Exercício 3.12**\n",
    "\n",
    "Escreva um programa que calcule o tempo de uma viagem de carro. \n",
    "Pergunte a distância a percorrer e velocidade média esperada para a viagem."
   ]
  },
  {
   "cell_type": "code",
   "execution_count": 14,
   "metadata": {},
   "outputs": [
    {
     "name": "stdout",
     "output_type": "stream",
     "text": [
      "Distância percorrida (km): 210\n",
      "Velocidade média (km/h): 80\n",
      "O tempo da viagem será 2.625 horas\n"
     ]
    }
   ],
   "source": [
    "# Solução:\n",
    "\n",
    "'''Resolveremos partir de uma das equações fundamentais do estudo do movimento uniforme\n",
    "\n",
    "    Vm = d/t (isto é, a velocidade média é igual a razão da distância percorrida (d) e o tempo (t))\n",
    "'''\n",
    "\n",
    "\n",
    "Distância = float(input(\"Distância percorrida (km): \")) # 210\n",
    "Velocidade_média = float(input(\"Velocidade média (km/h): \")) # 80\n",
    "\n",
    "Tempo = Distância / Velocidade_média\n",
    "\n",
    "print(\"O tempo da viagem será\", f'{Tempo} horas')"
   ]
  },
  {
   "cell_type": "markdown",
   "metadata": {},
   "source": [
    "**Exercício 3.13**\n",
    "\n",
    "Escreva um programa que converta um temperatura digitada em °C em °F.\n",
    "A fórmula para essa conversão é:\n",
    "\n",
    "$F = (9 \\times C)/5 + 32$"
   ]
  },
  {
   "cell_type": "code",
   "execution_count": 15,
   "metadata": {},
   "outputs": [
    {
     "name": "stdout",
     "output_type": "stream",
     "text": [
      "Valor da Temperatura em °C: 25\n",
      "A nova temperatura em Fahrenheit será 77.0 °F\n"
     ]
    }
   ],
   "source": [
    "# Solução: \n",
    "\n",
    "Temp_C = float(input(\"Valor da Temperatura em °C: \")) # 25\n",
    "\n",
    "Temp_F = (9 * Temp_C)/5 + 32\n",
    "\n",
    "print(\"A nova temperatura em Fahrenheit será\", f'{Temp_F} °F')"
   ]
  },
  {
   "cell_type": "markdown",
   "metadata": {},
   "source": [
    "**Exercício 3.14**\n",
    "\n",
    "Escreva um programa que pergunte a quantidade de km percorridos por um carro de alugado pelo usuário, assim como a quantidade\n",
    "de dias pelos quais o carro foi alugado.\n",
    "Calcule o preço a oagar, sabendo que o carro custa R$\\$ 60.00$ por dia e R$\\$ 0.15$ por km rodado."
   ]
  },
  {
   "cell_type": "code",
   "execution_count": 16,
   "metadata": {},
   "outputs": [
    {
     "name": "stdout",
     "output_type": "stream",
     "text": [
      "Distância total (km):210\n",
      "Total de dias alugado: 3\n"
     ]
    },
    {
     "data": {
      "text/plain": [
       "'Preço: R$ 211.5'"
      ]
     },
     "execution_count": 16,
     "metadata": {},
     "output_type": "execute_result"
    }
   ],
   "source": [
    "# Solução:\n",
    "\n",
    "Dist_percorrida = float(input(\"Distância total (km):\")) # 210\n",
    "Dias_aluguel = int(input(\"Total de dias alugado: \")) # 3 \n",
    "\n",
    "Preço_total = 60*Dias_aluguel + Dist_percorrida*0.15\n",
    "\n",
    "f'Preço: R$ {Preço_total}'"
   ]
  },
  {
   "cell_type": "markdown",
   "metadata": {},
   "source": [
    "**Exercício 3.15**\n",
    "\n",
    "Escreva um programa para calcular a redução do tempo de vida de uma fumante.\n",
    "Pergunte a quantidade de cigarros fumados por dia e quantos anos ele já fumou.\n",
    "Considere que um fumante perde 10 minutos de vida a cada cigarro, e calcule quanto dias de vida um fumente perderá.\n",
    "Exiba o total em dias."
   ]
  },
  {
   "cell_type": "code",
   "execution_count": 17,
   "metadata": {},
   "outputs": [
    {
     "name": "stdout",
     "output_type": "stream",
     "text": [
      "Quantos cigarros você fuma por dia?: 10\n",
      "Há quantos anos você fuma?: 45\n"
     ]
    },
    {
     "data": {
      "text/plain": [
       "'Portanto, o individuo perderá cerca de 1140.625 dias'"
      ]
     },
     "execution_count": 17,
     "metadata": {},
     "output_type": "execute_result"
    }
   ],
   "source": [
    "# Solução:\n",
    "\n",
    "Cig_dias = int(input(\"Quantos cigarros você fuma por dia?: \")) # 10 cigarro\n",
    "Anos = float(input(\"Há quantos anos você fuma?: \")) # 45 anos\n",
    "\n",
    "Total_Cig_Dias = Cig_dias * Anos * 365 # total de cigarros fumados ao longo dos anos\n",
    "\n",
    "Perder_vida = 10 * Total_Cig_Dias / (24*60)\n",
    "\n",
    "f'Portanto, o individuo perderá cerca de {Perder_vida} dias'"
   ]
  },
  {
   "cell_type": "markdown",
   "metadata": {},
   "source": [
    "# Parabéns!\n",
    "\n",
    "Até o momento já concluimos 22,56 % do livro!\n",
    "\n",
    "Bons estudos!"
   ]
  }
 ],
 "metadata": {
  "kernelspec": {
   "display_name": "Python 3",
   "language": "python",
   "name": "python3"
  },
  "language_info": {
   "codemirror_mode": {
    "name": "ipython",
    "version": 3
   },
   "file_extension": ".py",
   "mimetype": "text/x-python",
   "name": "python",
   "nbconvert_exporter": "python",
   "pygments_lexer": "ipython3",
   "version": "3.6.4"
  }
 },
 "nbformat": 4,
 "nbformat_minor": 2
}
