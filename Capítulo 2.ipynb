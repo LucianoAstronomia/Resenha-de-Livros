{
 "cells": [
  {
   "cell_type": "markdown",
   "metadata": {},
   "source": [
    "# Capítulo 2\n",
    "\n",
    "Nesta seção apresentaremos os solucionários dos problamas e exercícios propostos pelos autor do livro, Nilo N C Menezes.\n",
    "\n",
    "2.5 Primeiros programas\n",
    "\n",
    "'''\n",
    "Se você chegou até aqui, isso significa que já estamos em 15,24% do livro. E significa ainda, que\n",
    "estamos em bom progresso.\n",
    "\n",
    "Continue!\n",
    "'''"
   ]
  },
  {
   "cell_type": "markdown",
   "metadata": {},
   "source": [
    "**Exercício 2.3**\n",
    "\n",
    "Faça um programa que exiba seu nome na tela.\n"
   ]
  },
  {
   "cell_type": "code",
   "execution_count": 1,
   "metadata": {},
   "outputs": [
    {
     "name": "stdout",
     "output_type": "stream",
     "text": [
      "Luciano Alencar\n"
     ]
    }
   ],
   "source": [
    "# Solução:\n",
    "\n",
    "#primeiramente descreveremos uma variável chamada \"nome\", cujo o dados de entrada é \"Luciano Alencar\"\n",
    "nome = \"Luciano Alencar\"\n",
    "\n",
    "# Agora usaremos a função 'print()' para exibir o resultado do nosso programa.\n",
    "print(nome)"
   ]
  },
  {
   "cell_type": "markdown",
   "metadata": {},
   "source": [
    "# "
   ]
  },
  {
   "cell_type": "markdown",
   "metadata": {},
   "source": [
    "**Exercício 2.4**\n",
    "\n",
    "Escreva um programa que exiba o resutlado de $2a \\ x \\ 3b$, em que *a* vale 3 e *b* vale 5."
   ]
  },
  {
   "cell_type": "code",
   "execution_count": 2,
   "metadata": {},
   "outputs": [
    {
     "name": "stdout",
     "output_type": "stream",
     "text": [
      "90\n"
     ]
    }
   ],
   "source": [
    "# Solução:\n",
    "\n",
    "# No enunciado da questão é determinado que\n",
    "a = 3\n",
    "b = 5\n",
    "\n",
    "# alternativamente podemos escrever as duas variáveis numa mesma linha, como\n",
    "'''\n",
    "a, b = 3, 5\n",
    "\n",
    "Desta forma estamos 'dizendo' ao Python que queremos que as variáveis a e b recebam, respectivamente, os valores 3 e 5.\n",
    "Isto não causa nenhum problema quanto a interpreção do programa. Porém, ceritique-se que tanto as variáveis, quanto os valores\n",
    "estão sendo separados por VÍRGULAS.\n",
    "\n",
    "OBS: podemos usar esse artifício com quantas variáveis forem necessárias.\n",
    "'''\n",
    "\n",
    "# Retornaremos à nossa solução.\n",
    "# agora aplicaremos nossas variáveis em nossa equação e imprimiremos nosso resultado.\n",
    "\n",
    "print(2*a * 3*b) # É importante lembrar que o símbolo * (UM asterístico) representa multiplicação entre as constantes e as variáveis"
   ]
  },
  {
   "cell_type": "markdown",
   "metadata": {},
   "source": [
    "# "
   ]
  },
  {
   "cell_type": "markdown",
   "metadata": {},
   "source": [
    "**Exercício 2.5**\n",
    "\n",
    "Escreva um programa que calcule a soma de três variáveis e imprima o resultado na tela."
   ]
  },
  {
   "cell_type": "code",
   "execution_count": 3,
   "metadata": {},
   "outputs": [
    {
     "name": "stdout",
     "output_type": "stream",
     "text": [
      "resultado da 'Possível solução 3': 305.0\n"
     ]
    }
   ],
   "source": [
    "# Possível Solução 1:\n",
    "\n",
    "# As variáveis que escolhe fora\n",
    "x, y, z = 10,45,8\n",
    "\n",
    "# Agora usarei uma equação simples (de escolha aleatória) para obter um resutlado impresso na tela\n",
    "\n",
    "'''\n",
    "A equação é:\n",
    "    \n",
    "    x² + 5y - 2.5z\n",
    "    \n",
    "'''\n",
    "\n",
    "# Aplicaremos as variáveis na equação acima, já usando a função print()\n",
    "\n",
    "print(\"resultado da 'Possível solução 3':\", x**2 + 5*y - 2.5*z) \n",
    "#Lembre-se que ** representa que um determinado número (em nosso caso o X) esta sendo elevado a segunda potência"
   ]
  },
  {
   "cell_type": "code",
   "execution_count": 4,
   "metadata": {},
   "outputs": [
    {
     "name": "stdout",
     "output_type": "stream",
     "text": [
      "resultado da 'Possível solução 2': 63\n",
      "resultado da 'Possível solução 3': -27\n"
     ]
    }
   ],
   "source": [
    "# Possível Solução 2:\n",
    "\n",
    "x, y, z = 10,45,8\n",
    "print(\"resultado da 'Possível solução 2':\", x + z + y)\n",
    "\n",
    "# Possível Solução 3:\n",
    "\n",
    "x, y, z = 10,45,8\n",
    "\n",
    "print(\"resultado da 'Possível solução 3':\", x + z - y)"
   ]
  },
  {
   "cell_type": "markdown",
   "metadata": {},
   "source": [
    "# "
   ]
  },
  {
   "cell_type": "markdown",
   "metadata": {},
   "source": [
    "**Exercício 2.6***\n",
    "\n",
    "Modifique o **Programa 2.2**, de forma que ele calcule um aumento de 15$\\%$ para um salário de R$\\$$ 750, 00"
   ]
  },
  {
   "cell_type": "code",
   "execution_count": 5,
   "metadata": {},
   "outputs": [
    {
     "name": "stdout",
     "output_type": "stream",
     "text": [
      "862.5\n"
     ]
    }
   ],
   "source": [
    "# Solução:\n",
    "\n",
    "'''\n",
    "O programa especificado é:\n",
    "\n",
    "salario = 1500\n",
    "aumento = 5\n",
    "\n",
    "print(salario + (salario * aumento / 100))\n",
    "\n",
    "'''\n",
    "\n",
    "# Trocaremos os dados apresentados inicialmente pelos propostos no exercício\n",
    "\n",
    "salario = 750.00\n",
    "aumento = 15 #porcento >>>> isso significa que 15/100, como na propria equação já temos a variável 'aumento /100' colocaremos aprenas 15.\n",
    "\n",
    "print(salario + (salario * aumento/100))\n",
    "\n",
    "# Isso significa que para um indivíduo que recebe R$ 750,00 por mês, quando ganhar um aumento de 15% ele passarar\n",
    "# a receber R$ 862,50."
   ]
  },
  {
   "cell_type": "code",
   "execution_count": null,
   "metadata": {},
   "outputs": [],
   "source": []
  }
 ],
 "metadata": {
  "kernelspec": {
   "display_name": "Python 3",
   "language": "python",
   "name": "python3"
  },
  "language_info": {
   "codemirror_mode": {
    "name": "ipython",
    "version": 3
   },
   "file_extension": ".py",
   "mimetype": "text/x-python",
   "name": "python",
   "nbconvert_exporter": "python",
   "pygments_lexer": "ipython3",
   "version": "3.6.4"
  }
 },
 "nbformat": 4,
 "nbformat_minor": 2
}
